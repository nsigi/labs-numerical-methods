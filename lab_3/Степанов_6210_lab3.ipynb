{
 "cells": [
  {
   "cell_type": "markdown",
   "id": "82c737eb",
   "metadata": {},
   "source": [
    "# Степанов Никита 6210, лабораторная 3, 15 вариант"
   ]
  },
  {
   "cell_type": "code",
   "execution_count": 2,
   "id": "6268cd57",
   "metadata": {},
   "outputs": [],
   "source": [
    "import math\n",
    "import numpy as np"
   ]
  },
  {
   "cell_type": "markdown",
   "id": "64d41067",
   "metadata": {},
   "source": [
    "1. Создать квадратную матрицу из случайных целых чисел из [3,9] размера 5 . Найти ее определитель, используя LU разложение."
   ]
  },
  {
   "cell_type": "code",
   "execution_count": 4,
   "id": "a148b97d",
   "metadata": {},
   "outputs": [
    {
     "data": {
      "text/plain": [
       "array([[3, 5, 9, 8, 7],\n",
       "       [9, 9, 4, 9, 7],\n",
       "       [4, 9, 5, 8, 4],\n",
       "       [9, 6, 3, 3, 8],\n",
       "       [6, 3, 7, 7, 4]])"
      ]
     },
     "execution_count": 4,
     "metadata": {},
     "output_type": "execute_result"
    }
   ],
   "source": [
    "A = np.random.randint(3, 10, (5, 5))\n",
    "A"
   ]
  },
  {
   "cell_type": "code",
   "execution_count": 3,
   "id": "fe17ad4b",
   "metadata": {},
   "outputs": [
    {
     "name": "stdout",
     "output_type": "stream",
     "text": [
      "[[ 1.          0.          0.          0.          0.        ]\n",
      " [ 1.25        1.          0.          0.          0.        ]\n",
      " [ 0.75        0.4         1.          0.          0.        ]\n",
      " [ 1.          0.6         0.52542373  1.          0.        ]\n",
      " [ 2.          2.4        -0.61016949 35.          1.        ]]\n",
      "[[ 4.          8.          9.          8.          9.        ]\n",
      " [ 0.         -5.         -4.25       -7.         -5.25      ]\n",
      " [ 0.          0.          2.95        3.8         0.35      ]\n",
      " [ 0.          0.          0.          0.20338983 -0.03389831]\n",
      " [ 0.          0.          0.          0.          4.        ]]\n"
     ]
    }
   ],
   "source": [
    "L = np.identity(5, float)  # нижняя унитреугольная матрица\n",
    "U = np.zeros((5, 5), float)  # верхняя треугольная матрица\n",
    "for i in range(5):\n",
    "    for j in range(5):\n",
    "        if i > j:\n",
    "            L[i, j] = (A[i, j] - np.dot(L[i, :j], U[:j, j])) / U[j, j]\n",
    "        else:\n",
    "            U[i, j] = A[i, j] - np.dot(L[i, :i], U[:i, j])\n",
    "print(L)\n",
    "print(U)"
   ]
  },
  {
   "cell_type": "code",
   "execution_count": 4,
   "id": "ea2c6df8",
   "metadata": {},
   "outputs": [
    {
     "data": {
      "text/plain": [
       "-48.00000000000002"
      ]
     },
     "execution_count": 4,
     "metadata": {},
     "output_type": "execute_result"
    }
   ],
   "source": [
    "det = 1\n",
    "for i in range(5):\n",
    "    det *= U[i,i]\n",
    "det"
   ]
  },
  {
   "cell_type": "code",
   "execution_count": 5,
   "id": "d2480061",
   "metadata": {},
   "outputs": [
    {
     "data": {
      "text/plain": [
       "-48.00000000000007"
      ]
     },
     "execution_count": 5,
     "metadata": {},
     "output_type": "execute_result"
    }
   ],
   "source": [
    "# проверка\n",
    "np.linalg.det(A)"
   ]
  },
  {
   "cell_type": "markdown",
   "id": "ee06d135",
   "metadata": {},
   "source": [
    "2. Найдите QR разложение матрицы, созданной в пункте 1. Проверьте правильность найденного разложения 1) с помощью умножения Q на R 2) с помощью функции np.linalg. qr."
   ]
  },
  {
   "cell_type": "code",
   "execution_count": 6,
   "id": "3b8880c6",
   "metadata": {},
   "outputs": [],
   "source": [
    "Q = np.identity(5, float)  # Q — унитарная матрица размера nxn\n",
    "# Q - ортонормированная матрица\n",
    "R = np.zeros((5, 5), float)  # R — верхнетреугольная матрица размера nxn.\n",
    "#R = Q^-1 * A"
   ]
  },
  {
   "cell_type": "code",
   "execution_count": 7,
   "id": "2fcf2889",
   "metadata": {},
   "outputs": [
    {
     "data": {
      "text/plain": [
       "array([[ 0.3508,  0.7403, -0.4773,  0.2944,  0.1201],\n",
       "       [ 0.4385,  0.0599, -0.0459, -0.8557,  0.2642],\n",
       "       [ 0.2631,  0.209 ,  0.7856,  0.2482,  0.4564],\n",
       "       [ 0.3508,  0.221 ,  0.3382, -0.0825, -0.8408],\n",
       "       [ 0.7016, -0.5965, -0.1963,  0.3358,  0.024 ]])"
      ]
     },
     "execution_count": 7,
     "metadata": {},
     "output_type": "execute_result"
    }
   ],
   "source": [
    "def gram_schmidt(X):\n",
    "    N = X.shape[0]\n",
    "    B = np.zeros((N, N), float)\n",
    "    for i in range(N):\n",
    "        B[:, i] = X[:, i]  # инициализируем начальным вектором\n",
    "        for j in range(i):\n",
    "            # вычисляем коэф = отношению скалярных произведений, а также умножаем это на веткор из предыдущей итерации\n",
    "            B[:, i] -= np.dot(X[:, i], B[:, j]) / \\\n",
    "                np.dot(B[:, j], B[:, j]) * B[:, j]\n",
    "    # ортонормируем\n",
    "    for i in range(N):\n",
    "        B[:, i] /= np.linalg.norm(B[:, i])\n",
    "    return B\n",
    "\n",
    "\n",
    "Q = gram_schmidt(A).round(4)\n",
    "Q"
   ]
  },
  {
   "cell_type": "code",
   "execution_count": 8,
   "id": "81525112",
   "metadata": {},
   "outputs": [
    {
     "data": {
      "text/plain": [
       "array([[ 1., -0., -0., -0., -0.],\n",
       "       [-0.,  1.,  0., -0., -0.],\n",
       "       [-0.,  0.,  1., -0.,  0.],\n",
       "       [-0., -0., -0.,  1.,  0.],\n",
       "       [-0., -0.,  0.,  0.,  1.]])"
      ]
     },
     "execution_count": 8,
     "metadata": {},
     "output_type": "execute_result"
    }
   ],
   "source": [
    "# проверка на то, что матрица ортонормированная\n",
    "Qt = np.transpose(Q)\n",
    "np.dot(Q, Qt).round()\n",
    "# равна единичной => ортонормированная"
   ]
  },
  {
   "cell_type": "code",
   "execution_count": 9,
   "id": "b65c14a7",
   "metadata": {},
   "outputs": [
    {
     "data": {
      "text/plain": [
       "array([[11.4 , 10.61, 15.35, 10.87, 14.82],\n",
       "       [-0.  ,  5.78,  6.94,  6.51,  4.62],\n",
       "       [ 0.  ,  0.  ,  3.2 ,  2.79, -0.18],\n",
       "       [ 0.  ,  0.  ,  0.  ,  2.37,  0.95],\n",
       "       [-0.  , -0.  , -0.  , -0.  ,  0.1 ]])"
      ]
     },
     "execution_count": 9,
     "metadata": {},
     "output_type": "execute_result"
    }
   ],
   "source": [
    "# находим R = Qt*A\n",
    "R = np.dot(Qt, A).round(2)\n",
    "R"
   ]
  },
  {
   "cell_type": "markdown",
   "id": "a3da4738",
   "metadata": {},
   "source": [
    "1) с помощью умножения Q на R"
   ]
  },
  {
   "cell_type": "code",
   "execution_count": 10,
   "id": "92124e7c",
   "metadata": {},
   "outputs": [
    {
     "name": "stdout",
     "output_type": "stream",
     "text": [
      "[[ True  True  True  True  True]\n",
      " [ True  True  True  True  True]\n",
      " [ True  True  True  True  True]\n",
      " [ True  True  True  True  True]\n",
      " [ True  True  True  True  True]]\n"
     ]
    }
   ],
   "source": [
    "print(np.dot(Q, R).round().astype(np.int64) == A)"
   ]
  },
  {
   "cell_type": "markdown",
   "id": "2975d3be",
   "metadata": {},
   "source": [
    "2) с помощью функции np.linalg.qr."
   ]
  },
  {
   "cell_type": "code",
   "execution_count": 11,
   "id": "23c3a757",
   "metadata": {},
   "outputs": [
    {
     "name": "stdout",
     "output_type": "stream",
     "text": [
      "[[-0.3508  0.7403  0.4773  0.2944 -0.1201]\n",
      " [-0.4385  0.0599  0.0459 -0.8557 -0.2642]\n",
      " [-0.2631  0.209  -0.7856  0.2482 -0.4564]\n",
      " [-0.3508  0.221  -0.3382 -0.0825  0.8408]\n",
      " [-0.7016 -0.5965  0.1963  0.3358 -0.024 ]] \n",
      " [[-11.4018 -10.6124 -15.3485 -10.8755 -14.8223]\n",
      " [  0.       5.7773   6.9436   6.5056   4.6216]\n",
      " [  0.       0.      -3.1951  -2.7869   0.1848]\n",
      " [  0.       0.       0.       2.3735   0.9475]\n",
      " [  0.       0.       0.       0.      -0.0961]]\n",
      "[[ True  True  True  True  True]\n",
      " [ True  True  True  True  True]\n",
      " [ True  True  True  True  True]\n",
      " [ True  True  True  True  True]\n",
      " [ True  True  True  True  True]]\n"
     ]
    }
   ],
   "source": [
    "Q, R = np.linalg.qr(A)\n",
    "print(Q.round(4), \"\\n\", R.round(4))\n",
    "print(np.dot(Q, R).round().astype(np.int64) == A)"
   ]
  },
  {
   "attachments": {
    "image.png": {
     "image/png": "[encoded data removed]"
    }
   },
   "cell_type": "markdown",
   "id": "ae33adf8",
   "metadata": {},
   "source": [
    "3. Решить систему, используя метод простых итераций с точностью до 10-3, приведя к виду, удобному для итераций ![image.png](attachment:image.png)"
   ]
  },
  {
   "cell_type": "code",
   "execution_count": 20,
   "id": "4f8b059f",
   "metadata": {},
   "outputs": [
    {
     "name": "stdout",
     "output_type": "stream",
     "text": [
      "[[-0.         -0.48214286  0.30357143  0.33928571]\n",
      " [-0.28        0.         -0.26        0.62      ]\n",
      " [-0.21621622 -0.35135135 -0.          0.32432432]]\n",
      "Итерация: 8\n",
      "X: [0.099 0.565 0.105]\n"
     ]
    }
   ],
   "source": [
    "# преобразовал исходную матрицу, для выполнения условия сходимости следующим образом:\n",
    "# из 2-ой строки вычел 1-ую и к ней же прибавил 3-юю\n",
    "A = np.array([[5.6, 2.7, -1.7],\n",
    "              [-1.4, -5, -1.3],\n",
    "              [0.8, 1.3, 3.7]])\n",
    "B = [[1.9], [-3.1], [1.2]]\n",
    "# точность итераций\n",
    "eps = 1e-3\n",
    "\n",
    "# выделяем коэффициенты при искомых x, чтобы перенести потом их в знаменатель правой части\n",
    "diag = (1/np.diag(A)).reshape(-1, 1)\n",
    "A[np.diag_indices_from(A)] = 0.  # обнуляем диагональные элементы\n",
    "# интерпретируем ситуацию, если бы выражали Xi, оставляя его в левой части, перенося все остальное в правую\n",
    "A = np.hstack((-A, B)) * diag\n",
    "x = A[:, -1].ravel()  # составляем нулевое приближение\n",
    "x = np.append(x, 1)  # добавляем 1, учитывать в сумме приближения B/A\n",
    "tmp = x + eps  # tmp - значение x при предыдущей итерации, которое нужно для отслеживания точности\n",
    "it = 0\n",
    "print(A)\n",
    "while abs(x-tmp).max() > eps:\n",
    "    tmp = x\n",
    "    # print(x)\n",
    "    x = np.dot(A, tmp)  # вычисление приближений\n",
    "    x = np.append(x, 1)\n",
    "    it += 1\n",
    "# вывод\n",
    "print('Итерация:', it)\n",
    "print('X:', x[:-1].round(3))"
   ]
  },
  {
   "cell_type": "code",
   "execution_count": 21,
   "id": "b28a1c2b",
   "metadata": {},
   "outputs": [
    {
     "name": "stdout",
     "output_type": "stream",
     "text": [
      "X: [0.098 0.565 0.104]\n"
     ]
    }
   ],
   "source": [
    "#проверка\n",
    "A = np.array([[5.6, 2.7, -1.7],\n",
    "              [3.4, -3.6, -6.7],\n",
    "              [0.8, 1.3, 3.7]])\n",
    "B = [[1.9], [-2.4], [1.2]]\n",
    "print('X:', np.linalg.solve(A,B).round(3).reshape(-1))"
   ]
  }
 ],
 "metadata": {
  "kernelspec": {
   "display_name": "Python 3 (ipykernel)",
   "language": "python",
   "name": "python3"
  },
  "language_info": {
   "codemirror_mode": {
    "name": "ipython",
    "version": 3
   },
   "file_extension": ".py",
   "mimetype": "text/x-python",
   "name": "python",
   "nbconvert_exporter": "python",
   "pygments_lexer": "ipython3",
   "version": "3.9.7"
  }
 },
 "nbformat": 4,
 "nbformat_minor": 5
}
