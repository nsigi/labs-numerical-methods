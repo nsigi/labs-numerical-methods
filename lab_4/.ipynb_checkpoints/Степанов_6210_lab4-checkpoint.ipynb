{
 "cells": [
  {
   "cell_type": "markdown",
   "id": "799c61ee",
   "metadata": {},
   "source": [
    "# Степанов Никита 6210, лабораторная 4, 15 вариант"
   ]
  },
  {
   "cell_type": "code",
   "execution_count": 64,
   "id": "196bf5e1",
   "metadata": {},
   "outputs": [],
   "source": [
    "import math\n",
    "import numpy as np\n",
    "import copy"
   ]
  },
  {
   "cell_type": "markdown",
   "id": "b0eb0eee",
   "metadata": {},
   "source": [
    "1. Создать вектор-столбец 10x1 из случайных целых чисел. Вычислить\n",
    "норму\n",
    "|x|3 самостоятельно написанной функцией и проверить результат\n",
    "с помощью linalg.norm()"
   ]
  },
  {
   "cell_type": "code",
   "execution_count": 65,
   "id": "ccbfb79a",
   "metadata": {},
   "outputs": [],
   "source": [
    "def norm3(x):\n",
    "    return math.sqrt(sum(np.square(x)))"
   ]
  },
  {
   "cell_type": "code",
   "execution_count": 66,
   "id": "a7193433",
   "metadata": {},
   "outputs": [
    {
     "name": "stdout",
     "output_type": "stream",
     "text": [
      "[[ 2]\n",
      " [-8]\n",
      " [ 1]\n",
      " [ 4]\n",
      " [ 5]\n",
      " [ 0]\n",
      " [-9]\n",
      " [ 3]\n",
      " [-3]\n",
      " [-4]]\n"
     ]
    },
    {
     "data": {
      "text/plain": [
       "15.0"
      ]
     },
     "execution_count": 66,
     "metadata": {},
     "output_type": "execute_result"
    }
   ],
   "source": [
    "x = np.random.randint(-10, 11, (10, 1))\n",
    "print(x)\n",
    "norm3(x)"
   ]
  },
  {
   "cell_type": "code",
   "execution_count": 67,
   "id": "d3663869",
   "metadata": {},
   "outputs": [
    {
     "data": {
      "text/plain": [
       "15.0"
      ]
     },
     "execution_count": 67,
     "metadata": {},
     "output_type": "execute_result"
    }
   ],
   "source": [
    "#проверка\n",
    "np.linalg.norm(x)"
   ]
  },
  {
   "cell_type": "markdown",
   "id": "5872f9e9",
   "metadata": {},
   "source": [
    "2. Создать матрицу из случайных целых чисел. Найти норму матрицы\n",
    "Фробениуса\n",
    "|A|Fro с помощью самостоятельно написанного алгоритма,\n",
    "проверить результат с помощью linalg.norm()."
   ]
  },
  {
   "cell_type": "code",
   "execution_count": 68,
   "id": "ba7b030b",
   "metadata": {},
   "outputs": [],
   "source": [
    "def sqr(A):\n",
    "    n = len(A)\n",
    "    res = np.zeros((n, n), dtype=int)\n",
    "    for i in range(n):\n",
    "        for j in range(n):\n",
    "            res[i, j] = A[i, j]**2\n",
    "    return res\n",
    "\n",
    "\n",
    "def normFro(A):\n",
    "    return math.sqrt(sqr(A).sum())"
   ]
  },
  {
   "cell_type": "code",
   "execution_count": 69,
   "id": "c19b8ce3",
   "metadata": {},
   "outputs": [
    {
     "name": "stdout",
     "output_type": "stream",
     "text": [
      "[[-9 -2 -8  0  9]\n",
      " [ 7  7 -6 -2  5]\n",
      " [ 7 -8  1  9  2]\n",
      " [-8  1 -5 -1 -5]\n",
      " [10 -3 -3 10 -4]]\n"
     ]
    },
    {
     "data": {
      "text/plain": [
       "30.692018506445613"
      ]
     },
     "execution_count": 69,
     "metadata": {},
     "output_type": "execute_result"
    }
   ],
   "source": [
    "A = np.random.randint(-10, 11, (5, 5))\n",
    "print(A)\n",
    "normFro(A)"
   ]
  },
  {
   "cell_type": "code",
   "execution_count": 70,
   "id": "6193539d",
   "metadata": {},
   "outputs": [
    {
     "data": {
      "text/plain": [
       "30.692018506445613"
      ]
     },
     "execution_count": 70,
     "metadata": {},
     "output_type": "execute_result"
    }
   ],
   "source": [
    "#проверка\n",
    "np.linalg.norm(A)"
   ]
  },
  {
   "cell_type": "markdown",
   "id": "e9e6cda6",
   "metadata": {},
   "source": [
    "3. Для вектора, созданного в первом пункте, найти отражение\n",
    "Хаусхолдера, которое обнуляет его координаты с 3 по 10.\n",
    "Например, вектор (1,2,3,4,5,6,7,8,9,10) переводит в вектор\n",
    "(1,2,0,0,0,0,0,0,0,0)"
   ]
  },
  {
   "cell_type": "code",
   "execution_count": 71,
   "id": "ed9ac62d",
   "metadata": {},
   "outputs": [],
   "source": [
    "def gcdArr(x):\n",
    "    gcd = math.gcd(x[0], x[1])\n",
    "    for i in range(2, len(x)):\n",
    "        gcd = math.gcd(gcd, x[i])\n",
    "    print(gcd)\n",
    "    return gcd"
   ]
  },
  {
   "cell_type": "code",
   "execution_count": 72,
   "id": "ac25122f",
   "metadata": {},
   "outputs": [
    {
     "name": "stdout",
     "output_type": "stream",
     "text": [
      "x: [[ 2]\n",
      " [-8]\n",
      " [ 1]\n",
      " [ 4]\n",
      " [ 5]\n",
      " [ 0]\n",
      " [-9]\n",
      " [ 3]\n",
      " [-3]\n",
      " [-4]]\n",
      "||x||: 15.0\n",
      "x': [[ 2.]\n",
      " [15.]\n",
      " [-0.]\n",
      " [-0.]\n",
      " [-0.]\n",
      " [ 0.]\n",
      " [ 0.]\n",
      " [-0.]\n",
      " [ 0.]\n",
      " [ 0.]]\n",
      "||x_||: 14.999999999999993\n"
     ]
    }
   ],
   "source": [
    "def householderVect(x):\n",
    "    H = np.eye(len(x[0]))\n",
    "    H_ = np.eye(len(x[0])-1, dtype=float)\n",
    "    e = copy.copy(x[0, 1:])\n",
    "    #print(\"e:\", e)\n",
    "    b = np.sign(-x[0, 1])*norm3(e)\n",
    "    p_ = e\n",
    "    p_[0] = e[0]-b\n",
    "    #p = p_ / gcdArr(p_)\n",
    "    p = p_ \n",
    "    #print(\"p:\", p)\n",
    "    H_ -= 2 / (norm3(p)**2) * np.outer(p, p)\n",
    "    #print(\"H_':\", H_)\n",
    "    H[1:, 1:] = H_\n",
    "    return H\n",
    "\n",
    "\n",
    "#x = np.random.randint(-10, 11, (10, 1))\n",
    "#x= np.array([[-2/math.sqrt(5)], [1]])\n",
    "print(\"x:\", x)\n",
    "print(\"||x||:\", norm3(x))\n",
    "H = householderVect(np.transpose(x))\n",
    "\n",
    "x_ = np.dot(H, x)\n",
    "print(\"x':\", x_.round())\n",
    "print(\"||x_||:\", norm3(x_))\n"
   ]
  },
  {
   "attachments": {
    "image.png": {
     "image/png": "[encoded data removed]"
    }
   },
   "cell_type": "markdown",
   "id": "26c85685",
   "metadata": {},
   "source": [
    "4. Решить систему, используя QR разложение, полученное\n",
    "преобразованием Хаусхолдера.\n",
    "![image.png](attachment:image.png)"
   ]
  },
  {
   "cell_type": "code",
   "execution_count": 73,
   "id": "25ec3ad5",
   "metadata": {},
   "outputs": [],
   "source": [
    "def gram_schmidt(X):\n",
    "    N = X.shape[0]\n",
    "    B = np.zeros((N, N), float)\n",
    "    for i in range(N):\n",
    "        B[:, i] = X[:, i]  # инициализируем начальным вектором\n",
    "        for j in range(i):\n",
    "            # вычисляем коэф = отношению скалярных произведений, а также умножаем это на веткор из предыдущей итерации\n",
    "            B[:, i] -= np.dot(X[:, i], B[:, j]) / \\\n",
    "                np.dot(B[:, j], B[:, j]) * B[:, j]\n",
    "    # ортонормируем\n",
    "    for i in range(N):\n",
    "        B[:, i] /= np.linalg.norm(B[:, i])\n",
    "    return B"
   ]
  },
  {
   "cell_type": "code",
   "execution_count": 74,
   "id": "572a493b",
   "metadata": {},
   "outputs": [],
   "source": [
    "def householderReflection(A):\n",
    "    r, c = np.shape(A)\n",
    "    Q = np.identity(r)\n",
    "    R = np.copy(A)\n",
    "    for i in range(r-1):\n",
    "        x = R[i:, i]\n",
    "        #print(\"x:\", x)\n",
    "        e = np.zeros_like(x)\n",
    "        e[0] = norm3(x)\n",
    "        #print(\"e:\", e)\n",
    "        p_ = x - e\n",
    "        #print(\"p_:\", p_)\n",
    "        p = p_ / norm3(p_)\n",
    "        #print(\"p:\", p)\n",
    "        Q_i = np.identity(r)\n",
    "        Q_i[i:, i:] -= 2 * np.outer(p, p)\n",
    "        #print(\"Q_cnt:\", Q_cnt)\n",
    "        R = np.dot(Q_i, R)\n",
    "        Q = np.dot(Q, Q_i)\n",
    "        #print(\"Q:\", Q)\n",
    "        #print(\"R:\", R)\n",
    "    return Q, R"
   ]
  },
  {
   "cell_type": "code",
   "execution_count": 75,
   "id": "540e6145",
   "metadata": {},
   "outputs": [
    {
     "name": "stdout",
     "output_type": "stream",
     "text": [
      "A: [[ 15.7   6.6  -5.7  11.5]\n",
      " [  8.8  -6.7   5.5  -4.5]\n",
      " [  6.3  -5.7 -23.4   6.6]\n",
      " [ 14.3   8.7 -15.7  -5.8]]\n",
      "B: [[-2.4], [5.6], [7.7], [23.4]]\n",
      "Q: [[ 0.6587  0.227   0.2284  0.68  ]\n",
      " [ 0.3692 -0.6813  0.5484 -0.3143]\n",
      " [ 0.2643 -0.558  -0.7641  0.1869]\n",
      " [ 0.6     0.4158 -0.2515 -0.6355]]\n",
      "R: [[ 23.84   5.59 -17.33   4.18]\n",
      " [ -0.    12.86   1.49  -0.42]\n",
      " [ -0.    -0.    23.54  -3.43]\n",
      " [ -0.    -0.     0.    14.15]]\n",
      "---------------------------------------\n",
      "Q: [[ 0.6587  0.227   0.2284  0.68  ]\n",
      " [ 0.3692 -0.6813  0.5484 -0.3143]\n",
      " [ 0.2643 -0.558  -0.7641  0.1869]\n",
      " [ 0.6     0.4158 -0.2515 -0.6355]]\n",
      "R: [[ 23.84   5.59 -17.33   4.18]\n",
      " [  0.    12.86   1.49  -0.42]\n",
      " [ -0.    -0.    23.54  -3.43]\n",
      " [ -0.     0.     0.    14.15]]\n"
     ]
    }
   ],
   "source": [
    "A = np.array([[15.7, 6.6, -5.7, 11.5],\n",
    "              [8.8, -6.7, 5.5, -4.5],\n",
    "              [6.3, -5.7, -23.4, 6.6],\n",
    "              [14.3, 8.7, -15.7, -5.8]])\n",
    "B = [[-2.4], [5.6], [7.7], [23.4]]\n",
    "print(\"A:\", A)\n",
    "print(\"B:\", B)\n",
    "\n",
    "Q, R = householderReflection(A)\n",
    "print(\"Q:\", Q.round(4))\n",
    "print(\"R:\", R.round(2))\n",
    "print(\"---------------------------------------\")\n",
    "Q = gram_schmidt(A)\n",
    "R = np.dot(np.transpose(Q), A)\n",
    "print(\"Q:\", Q.round(4))\n",
    "print(\"R:\", R.round(2))"
   ]
  },
  {
   "cell_type": "code",
   "execution_count": 76,
   "id": "627748b8",
   "metadata": {},
   "outputs": [
    {
     "data": {
      "text/plain": [
       "array([[ 0.46606121],\n",
       "       [ 0.11028446],\n",
       "       [-0.56570877],\n",
       "       [-1.188659  ]])"
      ]
     },
     "execution_count": 76,
     "metadata": {},
     "output_type": "execute_result"
    }
   ],
   "source": [
    "# RX=Q^TB\n",
    "Y = np.dot(np.transpose(Q), B)\n",
    "X = np.zeros((4, 1), float)\n",
    "X[3] = Y[3]/R[3, 3]\n",
    "\n",
    "for i in range(2, -1, -1):\n",
    "    X[i] = (Y[i] - np.dot(R[i, i+1:], X[i+1:]))/R[i, i]\n",
    "X"
   ]
  },
  {
   "cell_type": "code",
   "execution_count": 78,
   "id": "bf6e3716",
   "metadata": {},
   "outputs": [
    {
     "data": {
      "text/plain": [
       "array([[ 0.46606121],\n",
       "       [ 0.11028446],\n",
       "       [-0.56570877],\n",
       "       [-1.188659  ]])"
      ]
     },
     "execution_count": 78,
     "metadata": {},
     "output_type": "execute_result"
    }
   ],
   "source": [
    "# проверка решения\n",
    "X = np.linalg.solve(A, B)\n",
    "X"
   ]
  }
 ],
 "metadata": {
  "kernelspec": {
   "display_name": "Python 3 (ipykernel)",
   "language": "python",
   "name": "python3"
  },
  "language_info": {
   "codemirror_mode": {
    "name": "ipython",
    "version": 3
   },
   "file_extension": ".py",
   "mimetype": "text/x-python",
   "name": "python",
   "nbconvert_exporter": "python",
   "pygments_lexer": "ipython3",
   "version": "3.9.7"
  }
 },
 "nbformat": 4,
 "nbformat_minor": 5
}
