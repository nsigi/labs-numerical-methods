{
 "cells": [
  {
   "cell_type": "markdown",
   "id": "799c61ee",
   "metadata": {},
   "source": [
    "# Степанов Никита 6210, лабораторная 5, 15 вариант"
   ]
  },
  {
   "cell_type": "code",
   "execution_count": 2,
   "id": "196bf5e1",
   "metadata": {},
   "outputs": [
    {
     "name": "stdout",
     "output_type": "stream",
     "text": [
      "Using matplotlib backend: Qt5Agg\n"
     ]
    }
   ],
   "source": [
    "import math\n",
    "import numpy as np\n",
    "import sympy as sm\n",
    "from sympy import diff\n",
    "import matplotlib.pyplot as plt\n",
    "import copy\n",
    "from sympy.plotting.plot import MatplotlibBackend, Plot\n",
    "%matplotlib\n",
    "%matplotlib inline"
   ]
  },
  {
   "attachments": {
    "image.png": {
     "image/png": "[encoded data removed]"
    }
   },
   "cell_type": "markdown",
   "id": "b0eb0eee",
   "metadata": {},
   "source": [
    "# 1. Решить нелинейное уравнение на указанном отрезке используя методы половинного деления, метод хорд и метод Ньютона с е = 0.0001\n",
    "![image.png](attachment:image.png)"
   ]
  },
  {
   "cell_type": "code",
   "execution_count": 3,
   "id": "ccbfb79a",
   "metadata": {},
   "outputs": [],
   "source": [
    "# заменим x на символ\n",
    "x = sm.Symbol('x')"
   ]
  },
  {
   "cell_type": "code",
   "execution_count": 4,
   "id": "9f1b97c0",
   "metadata": {},
   "outputs": [
    {
     "data": {
      "text/latex": [
       "$\\displaystyle - 2.4 x^{3} + 1.27 x^{2} + 8.63 x + 2.31$"
      ],
      "text/plain": [
       "-2.4*x**3 + 1.27*x**2 + 8.63*x + 2.31"
      ]
     },
     "execution_count": 4,
     "metadata": {},
     "output_type": "execute_result"
    }
   ],
   "source": [
    "k = np.array([-2.4, 1.27, 8.63, 2.31])\n",
    "a = -2\n",
    "b = 3\n",
    "n = len(k)\n",
    "F = 0\n",
    "for i in range(n):\n",
    "    Ln = k[i]*(x**(3-i))\n",
    "    F += Ln  \n",
    "F = sm.expand(F)\n",
    "F"
   ]
  },
  {
   "cell_type": "markdown",
   "id": "4dd83ebd",
   "metadata": {},
   "source": [
    "1. Построить график функции. Убедиться, что на указанном интервале функция имеет единственный корень."
   ]
  },
  {
   "cell_type": "code",
   "execution_count": 5,
   "id": "5d4af00f",
   "metadata": {},
   "outputs": [
    {
     "data": {
      "text/plain": [
       "Text(0.41, 0.85, 'Y')"
      ]
     },
     "execution_count": 5,
     "metadata": {},
     "output_type": "execute_result"
    },
    {
     "data": {
      "image/png": "[encoded data removed]",
      "text/plain": [
       "<Figure size 432x288 with 1 Axes>"
      ]
     },
     "metadata": {
      "needs_background": "light"
     },
     "output_type": "display_data"
    }
   ],
   "source": [
    "xL = np.linspace(a, b, 100)\n",
    "f = -2.4*xL**3 + 1.27*xL**2 + 8.63*xL + 2.31\n",
    "fig, ax = plt.subplots()\n",
    "ax.plot(xL, f)\n",
    "ax.grid()  # разленовка\n",
    "ax.axhline(y=0, color=\"black\")\n",
    "ax.axvline(x=0, color=\"black\")\n",
    "# подпись осей\n",
    "fig.text(0.87, 0.66, 'X')\n",
    "fig.text(0.41, 0.85, 'Y')"
   ]
  },
  {
   "cell_type": "markdown",
   "id": "ac29ce46",
   "metadata": {},
   "source": [
    "2. Проверить условия сходимости для каждого метода."
   ]
  },
  {
   "cell_type": "code",
   "execution_count": 6,
   "id": "8e466e89",
   "metadata": {},
   "outputs": [],
   "source": [
    "y1 = F.subs(x, a)\n",
    "y2 = F.subs(x, b)"
   ]
  },
  {
   "cell_type": "markdown",
   "id": "dd5a1ceb",
   "metadata": {},
   "source": [
    "Для метода половинного деления"
   ]
  },
  {
   "cell_type": "code",
   "execution_count": 7,
   "id": "1a00bba1",
   "metadata": {},
   "outputs": [
    {
     "data": {
      "text/plain": [
       "True"
      ]
     },
     "execution_count": 7,
     "metadata": {},
     "output_type": "execute_result"
    }
   ],
   "source": [
    "#f(a)*f(b) < 0 и производная не равна 0\n",
    "(y1*y2 < 0) and (F.diff(x) != 0)"
   ]
  },
  {
   "cell_type": "markdown",
   "id": "176e6176",
   "metadata": {},
   "source": [
    "Для метода хорд "
   ]
  },
  {
   "cell_type": "code",
   "execution_count": 8,
   "id": "54e8e392",
   "metadata": {},
   "outputs": [
    {
     "data": {
      "text/plain": [
       "True"
      ]
     },
     "execution_count": 8,
     "metadata": {},
     "output_type": "execute_result"
    }
   ],
   "source": [
    "#аналогично\n",
    "(y1*y2 < 0) and (F.diff(x) != 0)"
   ]
  },
  {
   "cell_type": "markdown",
   "id": "12b9ecfb",
   "metadata": {},
   "source": [
    "Для метода Ньютона (касательных)"
   ]
  },
  {
   "cell_type": "code",
   "execution_count": 9,
   "id": "02405bc6",
   "metadata": {},
   "outputs": [
    {
     "data": {
      "text/plain": [
       "True"
      ]
     },
     "execution_count": 9,
     "metadata": {},
     "output_type": "execute_result"
    }
   ],
   "source": [
    "#аналогично + вторая производная не равно 0\n",
    "(y1*y2 < 0) and (F.diff(x) != 0) and (F.diff(x).diff(x) != 0)"
   ]
  },
  {
   "cell_type": "markdown",
   "id": "886e7ae0",
   "metadata": {},
   "source": [
    "3. Вычислить с точностью до 0.001 значения корня."
   ]
  },
  {
   "cell_type": "code",
   "execution_count": 10,
   "id": "d4b11b10",
   "metadata": {},
   "outputs": [],
   "source": [
    "def Func(x1):\n",
    "    return F.subs(x, x1)\n",
    "def Func1(x1):\n",
    "    return F.diff(x).subs(x, x1)\n",
    "eps = 0.0001"
   ]
  },
  {
   "attachments": {
    "image.png": {
     "image/png": "[encoded data removed]"
    }
   },
   "cell_type": "markdown",
   "id": "62b24a34",
   "metadata": {},
   "source": [
    "Для метода половинного деления использовать формулу\n",
    "![image.png](attachment:image.png)"
   ]
  },
  {
   "cell_type": "code",
   "execution_count": 11,
   "id": "429ea6ba",
   "metadata": {},
   "outputs": [],
   "source": [
    "def methodHalfD(a0, b0):\n",
    "    a = a0\n",
    "    b = b0\n",
    "    i1 = 0\n",
    "    x1 = 0\n",
    "    while ((b-a) > eps):\n",
    "        i1 += 1\n",
    "        x1 = (a+b)/2\n",
    "        y = Func(x1)\n",
    "        if Func(a) * y < 0:\n",
    "            b = x1\n",
    "        else:\n",
    "            a = x1\n",
    "    return x1, i1\n",
    "\n",
    "x11, it11 = methodHalfD(-2, 3)\n",
    "x12, it12 = methodHalfD(-2, 0)\n",
    "x13, it13 = methodHalfD(-1, 0)"
   ]
  },
  {
   "attachments": {
    "image.png": {
     "image/png": "[encoded data removed]"
    }
   },
   "cell_type": "markdown",
   "id": "8ba46043",
   "metadata": {},
   "source": [
    "Для метода хорд использовать формулу![image.png](attachment:image.png)"
   ]
  },
  {
   "cell_type": "code",
   "execution_count": 12,
   "id": "b72cb24e",
   "metadata": {},
   "outputs": [],
   "source": [
    "a = -2\n",
    "b = 3\n",
    "\n",
    "#xn2 = a - (Func(a) * (b-a)) / (Func(b) - Func(a))\n",
    "#xn1 = xn2 - (Func(xn2) * (b-xn2)) / (Func(b) - Func(xn2))\n",
    "#xn = 0\n",
    "def methodHord(xn2_, xn1_, xn_):\n",
    "    i2 = 0\n",
    "    xn2 = xn2_\n",
    "    xn1 = xn1_\n",
    "    xn = xn_\n",
    "\n",
    "    while (abs(xn - xn1) >= eps):\n",
    "        i2 += 1\n",
    "        temp = xn\n",
    "        xn = xn2 - (Func(xn2) * (xn1-xn2)) / (Func(xn1) - Func(xn2))\n",
    "        xn2 = xn1\n",
    "        xn1 = temp\n",
    "    return xn, i2\n",
    "x21, it21 = methodHord(b/3, b,  b/2)\n",
    "x22, it22 = methodHord(-1, -1.5,  -2)\n",
    "x23, it23 = methodHord(a, b,  0)"
   ]
  },
  {
   "attachments": {
    "image.png": {
     "image/png": "[encoded data removed]"
    }
   },
   "cell_type": "markdown",
   "id": "4f1e0dfa",
   "metadata": {},
   "source": [
    "Для метода Ньютона (касательных)![image.png](attachment:image.png)"
   ]
  },
  {
   "cell_type": "code",
   "execution_count": 13,
   "id": "f8835a92",
   "metadata": {},
   "outputs": [],
   "source": [
    "a = -2\n",
    "b = 3\n",
    "def methodNewton(xn1_):\n",
    "    i3 = 1 #1-ая итерация\n",
    "    xn1 = xn1_\n",
    "    xn = xn1 - Func(xn1) / Func1(xn1)\n",
    "    while (abs(xn - xn1) >= eps):\n",
    "        i3 += 1 \n",
    "        xn1 = xn \n",
    "        xn = xn1 - Func(xn1) / Func1(xn1)\n",
    "    return xn, i3\n",
    "x31, it31 = methodNewton(b)\n",
    "x32, it32 = methodNewton(a)\n",
    "x33, it33 = methodNewton(0)"
   ]
  },
  {
   "cell_type": "markdown",
   "id": "91315a75",
   "metadata": {},
   "source": [
    "Проверка"
   ]
  },
  {
   "cell_type": "code",
   "execution_count": 14,
   "id": "d9f4b23d",
   "metadata": {},
   "outputs": [
    {
     "data": {
      "text/plain": [
       "[-1.47075921530954 + 0.e-22*I,\n",
       " -0.286252358186313 + 0.e-20*I,\n",
       " 2.28617824016252 - 0.e-21*I]"
      ]
     },
     "execution_count": 14,
     "metadata": {},
     "output_type": "execute_result"
    }
   ],
   "source": [
    "sm.solve(F, x)"
   ]
  },
  {
   "cell_type": "markdown",
   "id": "4ab0c544",
   "metadata": {},
   "source": [
    "Сравнение"
   ]
  },
  {
   "cell_type": "code",
   "execution_count": 15,
   "id": "d37575a0",
   "metadata": {},
   "outputs": [
    {
     "name": "stdout",
     "output_type": "stream",
     "text": [
      "                               x1                    x2               x3            Кол-во итераций    it1 it2 it3\n",
      "Методов половинного деления: 2.2861175537109375 -1.47076416015625 -0.28619384765625                    16 15 14\n",
      "Метод хорд                   2.28617829554782 -1.47075925982872 -0.286252069017326                     13 7   9\n",
      "Метод Ньютона (касательных): 2.28617824016252 -1.47075921530964 -0.286252358186313                      5 5   4\n"
     ]
    }
   ],
   "source": [
    "print(\"                               x1                    x2               x3            Кол-во итераций    it1 it2 it3\")\n",
    "print(\"Методов половинного деления:\", x11, x12,x13,'                  ', it11, it12, it13)\n",
    "print(\"Метод хорд                  \", x21, x22,x23, '                   ', it21, it22, ' ', it23)\n",
    "print(\"Метод Ньютона (касательных):\", x31, x32,x33, '                    ', it31, it32, ' ',it33)"
   ]
  },
  {
   "cell_type": "markdown",
   "id": "fb4c657c",
   "metadata": {},
   "source": [
    "# 2. Решить систему нелинейных уравнений методом Ньютона e = 0.0001"
   ]
  },
  {
   "attachments": {
    "image-2.png": {
     "image/png": "[encoded data removed]"
    }
   },
   "cell_type": "markdown",
   "id": "cd3d0dae",
   "metadata": {},
   "source": [
    "![image-2.png](attachment:image-2.png)"
   ]
  },
  {
   "cell_type": "markdown",
   "id": "5e64608b",
   "metadata": {},
   "source": [
    "1. Построить графики функций. (вспомните первую лаб работу)"
   ]
  },
  {
   "cell_type": "code",
   "execution_count": 16,
   "id": "8378c834",
   "metadata": {},
   "outputs": [],
   "source": [
    "xL = np.linspace(-5, 5, 100)\n",
    "yL = np.linspace(-5, 5, 100)"
   ]
  },
  {
   "cell_type": "code",
   "execution_count": 17,
   "id": "4d565a73",
   "metadata": {},
   "outputs": [],
   "source": [
    "Fy, Fx = np.sin(yL + 1) - 1.2, 1-np.cos(xL)/2"
   ]
  },
  {
   "cell_type": "code",
   "execution_count": 18,
   "id": "5e90bbd1",
   "metadata": {},
   "outputs": [
    {
     "data": {
      "text/plain": [
       "Text(0.53, 0.84, 'Y')"
      ]
     },
     "execution_count": 18,
     "metadata": {},
     "output_type": "execute_result"
    },
    {
     "data": {
      "image/png": "[encoded data removed]",
      "text/plain": [
       "<Figure size 504x432 with 1 Axes>"
      ]
     },
     "metadata": {
      "needs_background": "light"
     },
     "output_type": "display_data"
    }
   ],
   "source": [
    "fig = plt.figure(figsize=(7, 6))\n",
    "ax = plt.subplot(111)\n",
    "ax.grid()\n",
    "ax.axhline(y=0, color='black')\n",
    "ax.axvline(x=0, color='black')\n",
    "ax.plot(xL, Fx, color='red', label=\"sin(y+1) - x - 1.2 = 0\")\n",
    "ax.plot(Fy, yL, color='blue', label=\"2y + cos(x) - 2 = 0\")\n",
    "# устанавливаем диапазоны осей\n",
    "plt.xlim(xL.min(), xL.max())\n",
    "plt.ylim(yL.min(), yL.max())\n",
    "\n",
    "ax.legend(loc='upper right', frameon=False)\n",
    "fig.text(0.87, 0.51, 'X')\n",
    "fig.text(0.53, 0.84, 'Y')"
   ]
  },
  {
   "cell_type": "markdown",
   "id": "5cc49329",
   "metadata": {},
   "source": [
    "2. Определите начальное приближение исходя из графиков."
   ]
  },
  {
   "cell_type": "code",
   "execution_count": 19,
   "id": "a580735a",
   "metadata": {},
   "outputs": [],
   "source": [
    "x0 = 0\n",
    "y0 = 1"
   ]
  },
  {
   "cell_type": "markdown",
   "id": "d9f34270",
   "metadata": {},
   "source": [
    "3. Вычислить производные, составить матрицу Якоби. (Вывести на экран)"
   ]
  },
  {
   "cell_type": "code",
   "execution_count": 20,
   "id": "096104a4",
   "metadata": {},
   "outputs": [
    {
     "name": "stdout",
     "output_type": "stream",
     "text": [
      "dfdx: -1\n",
      "dfdy: cos(y + 1)\n",
      "dgdx: -sin(x)\n",
      "dgdy: 2\n",
      "Jacobian: [[-1.         -0.41614684]\n",
      " [ 0.          2.        ]]\n"
     ]
    }
   ],
   "source": [
    "x = sm.Symbol('x')\n",
    "y = sm.Symbol('y')\n",
    "\n",
    "f = sm.sin(y+1) - x - 1.2\n",
    "g = 2*y + sm.cos(x) - 2\n",
    "\n",
    "dfdx = f.diff(x)\n",
    "dfdy = f.diff(y)\n",
    "dgdx = g.diff(x)\n",
    "dgdy = g.diff(y)\n",
    "print('dfdx:', dfdx)\n",
    "print('dfdy:', dfdy)\n",
    "print('dgdx:', dgdx)\n",
    "print('dgdy:', dgdy)\n",
    "\n",
    "jac = np.zeros((2, 2))\n",
    "jac[0][0] = dfdx\n",
    "jac[0][1] = dfdy.subs(y, y0)\n",
    "jac[1][0] = dgdx.subs(x, x0)\n",
    "jac[1][1] = dgdy\n",
    "print('Jacobian:', jac)"
   ]
  },
  {
   "attachments": {
    "image.png": {
     "image/png": "[encoded data removed]"
    }
   },
   "cell_type": "markdown",
   "id": "fbfcd6ab",
   "metadata": {},
   "source": [
    "4. Составить систему линейных уравнений относительно приращений x и y. (вывести на экран)\n",
    "![image.png](attachment:image.png)"
   ]
  },
  {
   "cell_type": "code",
   "execution_count": 21,
   "id": "d5badfab",
   "metadata": {},
   "outputs": [
    {
     "data": {
      "text/plain": [
       "(-x + sin(y + 1) - 1.2, 2*y + cos(x) - 2)"
      ]
     },
     "execution_count": 21,
     "metadata": {},
     "output_type": "execute_result"
    }
   ],
   "source": [
    "arrF = (f, g)\n",
    "arrF"
   ]
  },
  {
   "cell_type": "code",
   "execution_count": 22,
   "id": "2038cddb",
   "metadata": {},
   "outputs": [
    {
     "name": "stdout",
     "output_type": "stream",
     "text": [
      "-1 * Δx + cos(y + 1) * Δy = -x + sin(y + 1) - 1.2\n",
      "-sin(x) * Δx + 2 * Δy = 2*y + cos(x) - 2\n"
     ]
    }
   ],
   "source": [
    "print(dfdx,'* Δx +', dfdy,'* Δy =', arrF[0])\n",
    "print(dgdx,'* Δx +', dgdy,'* Δy =', arrF[1])"
   ]
  },
  {
   "cell_type": "code",
   "execution_count": 23,
   "id": "40d0a916",
   "metadata": {},
   "outputs": [],
   "source": [
    "def methodNewton(arrFCalc, jacCalc, x0, y0):\n",
    "    jacCur = np.copy(jacCalc)\n",
    "    x_cur = np.array([x0, y0])\n",
    "    it = 0\n",
    "    eps = 0.0001\n",
    "    while True:\n",
    "        arrFCalcCur = np.array([f(*x_cur.tolist()) for f in arrFCalc])\n",
    "        jacCalcCur = [[df(*x_cur.tolist()) for df in f] for f in jacCalc]\n",
    "        \n",
    "        delta = np.linalg.solve(jacCalcCur, -arrFCalcCur)\n",
    "        \n",
    "        x_next = x_cur + delta\n",
    "        it += 1\n",
    "        if np.linalg.norm(x_next - x_cur) < eps:\n",
    "            return x_next, it\n",
    "        x_cur = np.copy(x_next)\n",
    "\n",
    "\n",
    "arrFCalc = (lambda x, y: math.sin(y+1) - x - 1.2, \n",
    "            lambda x, y: 2*y + math.cos(x) - 2)\n",
    "jacCalc = [[lambda x, y: -1, lambda x, y: math.cos(y+1)],\n",
    "           [lambda x, y: -math.sin(x), lambda x, y:2]]"
   ]
  },
  {
   "cell_type": "code",
   "execution_count": 24,
   "id": "20e38907",
   "metadata": {},
   "outputs": [
    {
     "name": "stdout",
     "output_type": "stream",
     "text": [
      "Корень: [-0.20183842  0.51015016]\n",
      "Итераций: 4\n"
     ]
    }
   ],
   "source": [
    "s, it = methodNewton(arrFCalc, jacCalc, x0, y0)\n",
    "print('Корень:', s) \n",
    "print('Итераций:',it)"
   ]
  },
  {
   "cell_type": "markdown",
   "id": "f92e5728",
   "metadata": {},
   "source": [
    "9. Проверить полученные решения подстановкой и сравнить с\n",
    "решениями функцией Питон (nonlinsolve)"
   ]
  },
  {
   "cell_type": "code",
   "execution_count": 25,
   "id": "0afc7020",
   "metadata": {},
   "outputs": [
    {
     "data": {
      "text/latex": [
       "$\\displaystyle \\left[\\begin{matrix}-0.201838415356574\\\\0.51015015745074\\end{matrix}\\right]$"
      ],
      "text/plain": [
       "Matrix([\n",
       "[-0.201838415356574],\n",
       "[  0.51015015745074]])"
      ]
     },
     "execution_count": 25,
     "metadata": {},
     "output_type": "execute_result"
    }
   ],
   "source": [
    "sm.nsolve([f, g], [x, y], [-1, 1])"
   ]
  },
  {
   "cell_type": "code",
   "execution_count": null,
   "id": "c7c9a90b",
   "metadata": {},
   "outputs": [],
   "source": []
  }
 ],
 "metadata": {
  "kernelspec": {
   "display_name": "Python 3 (ipykernel)",
   "language": "python",
   "name": "python3"
  },
  "language_info": {
   "codemirror_mode": {
    "name": "ipython",
    "version": 3
   },
   "file_extension": ".py",
   "mimetype": "text/x-python",
   "name": "python",
   "nbconvert_exporter": "python",
   "pygments_lexer": "ipython3",
   "version": "3.9.7"
  }
 },
 "nbformat": 4,
 "nbformat_minor": 5
}
