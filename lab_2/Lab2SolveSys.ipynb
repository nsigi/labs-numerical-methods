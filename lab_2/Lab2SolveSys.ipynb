{
 "cells": [
  {
   "cell_type": "code",
   "execution_count": 1,
   "metadata": {},
   "outputs": [],
   "source": [
    "import math\n",
    "import numpy as np\n",
    "import matplotlib.pyplot as plt\n",
    "import scipy as sp\n",
    "from scipy import integrate"
   ]
  },
  {
   "cell_type": "markdown",
   "metadata": {},
   "source": [
    "# Лабораторная работа №2. Решение систем линейных уравнений"
   ]
  },
  {
   "cell_type": "markdown",
   "metadata": {},
   "source": [
    "# Создание матрицы. Работа с элементами матрицы"
   ]
  },
  {
   "cell_type": "markdown",
   "metadata": {},
   "source": [
    "1. Создать матрицу 10x10 случайных целых чисел принадлежащих отрезку [0, 10]. "
   ]
  },
  {
   "cell_type": "code",
   "execution_count": 2,
   "metadata": {},
   "outputs": [
    {
     "name": "stdout",
     "output_type": "stream",
     "text": [
      "[[ 5  3 10  5  0  8  4  2  9  3]\n",
      " [ 9  0  7 10  3  2  7  7  0  8]\n",
      " [ 4  7  8  0  7  0  0  2  6  5]\n",
      " [ 7  7  2 10  2  5  5  7  1  6]\n",
      " [ 0  0  4  7  8  9  3  8 10  6]\n",
      " [ 9  2 10  0  1  0  4 10  3  5]\n",
      " [ 3  1  4  8  1  2  3  5  8  0]\n",
      " [10  6  9  4  7  0  4  2  8  6]\n",
      " [ 7  7  8  6  1  4  4  8  9  2]\n",
      " [ 8  1  1  4  6  4  9  2  4  9]]\n"
     ]
    }
   ],
   "source": [
    "A = np.random.randint(0,11,(10, 10))\n",
    "print(A)"
   ]
  },
  {
   "cell_type": "markdown",
   "metadata": {},
   "source": [
    "Обращение к элементу матрицы, стоящему в 4 строке,  3 столбце"
   ]
  },
  {
   "cell_type": "code",
   "execution_count": 3,
   "metadata": {},
   "outputs": [
    {
     "data": {
      "text/plain": [
       "7"
      ]
     },
     "execution_count": 3,
     "metadata": {},
     "output_type": "execute_result"
    }
   ],
   "source": [
    "\n",
    "A[4,3]"
   ]
  },
  {
   "cell_type": "markdown",
   "metadata": {},
   "source": [
    "Четвертый (!) столбец матрицы А:"
   ]
  },
  {
   "cell_type": "code",
   "execution_count": 4,
   "metadata": {},
   "outputs": [
    {
     "data": {
      "text/plain": [
       "array([ 5, 10,  0, 10,  7,  0,  8,  4,  6,  4])"
      ]
     },
     "execution_count": 4,
     "metadata": {},
     "output_type": "execute_result"
    }
   ],
   "source": [
    "A[:, 3]"
   ]
  },
  {
   "cell_type": "markdown",
   "metadata": {},
   "source": [
    "Седьмая (!) строка матрицы А:"
   ]
  },
  {
   "cell_type": "code",
   "execution_count": 5,
   "metadata": {},
   "outputs": [
    {
     "data": {
      "text/plain": [
       "array([3, 1, 4, 8, 1, 2, 3, 5, 8, 0])"
      ]
     },
     "execution_count": 5,
     "metadata": {},
     "output_type": "execute_result"
    }
   ],
   "source": [
    "A[6, :]"
   ]
  },
  {
   "cell_type": "markdown",
   "metadata": {},
   "source": [
    "Вся матрица:"
   ]
  },
  {
   "cell_type": "code",
   "execution_count": 6,
   "metadata": {},
   "outputs": [
    {
     "data": {
      "text/plain": [
       "array([[ 5,  3, 10,  5,  0,  8,  4,  2,  9,  3],\n",
       "       [ 9,  0,  7, 10,  3,  2,  7,  7,  0,  8],\n",
       "       [ 4,  7,  8,  0,  7,  0,  0,  2,  6,  5],\n",
       "       [ 7,  7,  2, 10,  2,  5,  5,  7,  1,  6],\n",
       "       [ 0,  0,  4,  7,  8,  9,  3,  8, 10,  6],\n",
       "       [ 9,  2, 10,  0,  1,  0,  4, 10,  3,  5],\n",
       "       [ 3,  1,  4,  8,  1,  2,  3,  5,  8,  0],\n",
       "       [10,  6,  9,  4,  7,  0,  4,  2,  8,  6],\n",
       "       [ 7,  7,  8,  6,  1,  4,  4,  8,  9,  2],\n",
       "       [ 8,  1,  1,  4,  6,  4,  9,  2,  4,  9]])"
      ]
     },
     "execution_count": 6,
     "metadata": {},
     "output_type": "execute_result"
    }
   ],
   "source": [
    "A[:,:]"
   ]
  },
  {
   "cell_type": "markdown",
   "metadata": {},
   "source": [
    "Минор второго порядка на пересечении 2-3 строки и 4-5 столбцов"
   ]
  },
  {
   "cell_type": "code",
   "execution_count": 7,
   "metadata": {},
   "outputs": [
    {
     "data": {
      "text/plain": [
       "array([[10,  3],\n",
       "       [ 0,  7]])"
      ]
     },
     "execution_count": 7,
     "metadata": {},
     "output_type": "execute_result"
    }
   ],
   "source": [
    "A[1:3, 3:5]"
   ]
  },
  {
   "cell_type": "markdown",
   "metadata": {},
   "source": [
    "# Умножение матриц"
   ]
  },
  {
   "cell_type": "markdown",
   "metadata": {},
   "source": [
    "Скалярный вид умножения матриц."
   ]
  },
  {
   "cell_type": "code",
   "execution_count": 8,
   "metadata": {},
   "outputs": [],
   "source": [
    "n = 3\n",
    "k = 4\n",
    "m = 5\n",
    "A =  np.random.randint(0,11,(n, k))\n",
    "B = np.random.randint(0,11,(k, m))\n",
    "C = np.zeros((n,m), dtype = int)"
   ]
  },
  {
   "cell_type": "code",
   "execution_count": 9,
   "metadata": {},
   "outputs": [],
   "source": [
    "for i in range(n):\n",
    "    for j in range(m):\n",
    "        for p in range(k):\n",
    "            C[i,j] = C[i,j] + A[i,p]*B[p,j]"
   ]
  },
  {
   "cell_type": "code",
   "execution_count": 10,
   "metadata": {},
   "outputs": [
    {
     "name": "stdout",
     "output_type": "stream",
     "text": [
      "C=\n",
      " [[206 204 233 201 184]\n",
      " [158 162 240 224 187]\n",
      " [120 106 152 120 138]]\n",
      "A*B=\n",
      " [[206 204 233 201 184]\n",
      " [158 162 240 224 187]\n",
      " [120 106 152 120 138]]\n"
     ]
    }
   ],
   "source": [
    "D = np.dot(A, B)\n",
    "print('C=\\n', C)\n",
    "print('A*B=\\n', D)"
   ]
  },
  {
   "cell_type": "code",
   "execution_count": 11,
   "metadata": {},
   "outputs": [],
   "source": [
    "#векторное умножение матриц\n",
    "for i in range(n):\n",
    "    for j in range(m):\n",
    "            C[i,j] = np.dot(A[i, :], B[:, j])"
   ]
  },
  {
   "cell_type": "code",
   "execution_count": 12,
   "metadata": {},
   "outputs": [
    {
     "name": "stdout",
     "output_type": "stream",
     "text": [
      "[[206 204 233 201 184]\n",
      " [158 162 240 224 187]\n",
      " [120 106 152 120 138]]\n"
     ]
    }
   ],
   "source": [
    "print(C)"
   ]
  },
  {
   "cell_type": "markdown",
   "metadata": {},
   "source": [
    "# Решение системы линейных уравнений с треугольной матрицей А"
   ]
  },
  {
   "cell_type": "code",
   "execution_count": 13,
   "metadata": {},
   "outputs": [
    {
     "name": "stdout",
     "output_type": "stream",
     "text": [
      "[[ 2]\n",
      " [-2]\n",
      " [21]]\n",
      "[[ 1  0  0]\n",
      " [ 3  1  0]\n",
      " [-4  5  1]]\n"
     ]
    },
    {
     "data": {
      "text/plain": [
       "array([2, 4, 3])"
      ]
     },
     "execution_count": 13,
     "metadata": {},
     "output_type": "execute_result"
    }
   ],
   "source": [
    "\n",
    "A = np.array([[1, 0, 0], [3, 1, 0], [-4, 5, 1]], int) # Матрица (левая часть системы)\n",
    "B = np.array([2, 4, 3], int) # Вектор (правая часть системы)\n",
    "x = np.zeros((3,1), int)\n",
    "\n",
    "x[0] = B[0]\n",
    "\n",
    "for i in range(1,3):\n",
    "    x[i] = B[i] - np.dot(A[i, :i], x[ :i])\n",
    "                         \n",
    "                         \n",
    "print(x)\n",
    "print(A)\n",
    "B\n"
   ]
  },
  {
   "cell_type": "code",
   "execution_count": 22,
   "metadata": {},
   "outputs": [
    {
     "data": {
      "text/plain": [
       "array([ 2., -2., 21.])"
      ]
     },
     "execution_count": 22,
     "metadata": {},
     "output_type": "execute_result"
    }
   ],
   "source": [
    "#проверим решение\n",
    "np.linalg.solve(A, B)"
   ]
  },
  {
   "cell_type": "code",
   "execution_count": 27,
   "metadata": {},
   "outputs": [
    {
     "name": "stdout",
     "output_type": "stream",
     "text": [
      "[ 2 -2 21]\n"
     ]
    }
   ],
   "source": [
    "# решение без дополнительной переменной\n",
    "\n",
    "A = np.array([[1, 0, 0], [3, 1, 0], [-4, 5, 1]], int) # Матрица (левая часть системы)\n",
    "B = np.array([2, 4, 3], int) # Вектор (правая часть системы)\n",
    "\n",
    "\n",
    "for i in range(1,3):\n",
    "    B[i] = B[i] - np.dot(A[i, :i], B[ :i])\n",
    "                         \n",
    "                         \n",
    "print(B)"
   ]
  },
  {
   "cell_type": "markdown",
   "metadata": {},
   "source": [
    "# LU разложение матрицы А"
   ]
  },
  {
   "cell_type": "code",
   "execution_count": 144,
   "metadata": {},
   "outputs": [
    {
     "name": "stdout",
     "output_type": "stream",
     "text": [
      "[[ 1  6  4  5]\n",
      " [ 5  2  9 10]\n",
      " [10  3 10  8]\n",
      " [ 6  4  3  6]]\n"
     ]
    }
   ],
   "source": [
    "n = 4\n",
    "A =  np.random.randint(1,11, (n,n))\n",
    "A1 = A.copy() #контрольная матрица\n",
    "print(A)"
   ]
  },
  {
   "cell_type": "code",
   "execution_count": 145,
   "metadata": {},
   "outputs": [
    {
     "name": "stdout",
     "output_type": "stream",
     "text": [
      "[[ 1  6  4  5]\n",
      " [ 5  2  9 10]\n",
      " [10  3 10  8]\n",
      " [ 6  4  3  6]]\n"
     ]
    }
   ],
   "source": [
    "print(A)"
   ]
  },
  {
   "cell_type": "code",
   "execution_count": 146,
   "metadata": {},
   "outputs": [],
   "source": [
    "#алгоритм с вики\n",
    "U = np.zeros((n,n), float)\n",
    "L = np.identity(n, float)\n",
    "\n",
    "for i in range(n):\n",
    "    for j in range(n):\n",
    "        if i<=j:\n",
    "            U[i,j] = A1[i,j] -  np.dot(L[i, :i], U[ :i, j])\n",
    "        if i>j:\n",
    "            L[i,j] = (A1[i,j] -  np.dot(L[i, :j], U[ :j, j]) )/ U[j,j]"
   ]
  },
  {
   "cell_type": "code",
   "execution_count": 147,
   "metadata": {},
   "outputs": [
    {
     "name": "stdout",
     "output_type": "stream",
     "text": [
      "[[ 1.          0.          0.          0.        ]\n",
      " [ 5.          1.          0.          0.        ]\n",
      " [10.          2.03571429  1.          0.        ]\n",
      " [ 6.          1.14285714  1.10798122  1.        ]]\n",
      "[[  1.           6.           4.           5.        ]\n",
      " [  0.         -28.         -11.         -15.        ]\n",
      " [  0.           0.          -7.60714286 -11.46428571]\n",
      " [  0.           0.           0.           5.84507042]]\n",
      "[[ 1.  6.  4.  5.]\n",
      " [ 5.  2.  9. 10.]\n",
      " [10.  3. 10.  8.]\n",
      " [ 6.  4.  3.  6.]]\n",
      "[[ True  True  True  True]\n",
      " [ True  True  True  True]\n",
      " [ True  True  True  True]\n",
      " [ True  True  True  True]]\n"
     ]
    }
   ],
   "source": [
    "print(L)\n",
    "print(U)\n",
    "print(np.dot(L,U))\n",
    "print(np.dot(L,U) == A1)"
   ]
  },
  {
   "cell_type": "code",
   "execution_count": null,
   "metadata": {},
   "outputs": [],
   "source": []
  },
  {
   "cell_type": "code",
   "execution_count": 140,
   "metadata": {},
   "outputs": [],
   "source": [
    "#не РАБОТАЕТ!!!\n",
    "for k in range(n-1):\n",
    "    A[k+1: , k] = A[k+1: , k] / A[k,k]\n",
    "  \n",
    "    A[k+1: , k+1: ] = A[k+1: , k+1: ] - np.dot(A[k+1 : , k], A[k, k+1 : ])\n",
    "\n"
   ]
  },
  {
   "cell_type": "code",
   "execution_count": 142,
   "metadata": {},
   "outputs": [
    {
     "name": "stdout",
     "output_type": "stream",
     "text": [
      "U=\n",
      " [[  2.64730045  10.34828577   5.00494619  10.60342456]\n",
      " [  0.         -72.65603906 -76.27324636 -72.58768322]\n",
      " [  0.           0.          76.46579162  84.26810036]\n",
      " [  0.           0.           0.          -3.99405665]]\n",
      "L=\n",
      " [[1.         0.         0.         0.        ]\n",
      " [3.32736463 1.         0.         0.        ]\n",
      " [1.30946765 1.01193209 1.         0.        ]\n",
      " [3.89580853 1.08997114 1.00217754 1.        ]]\n"
     ]
    }
   ],
   "source": [
    "#найдем матрицы L и U:\n",
    "L = np.zeros((n,n), float)\n",
    "for i in range(1, n):\n",
    "    for j in range(i):\n",
    "        L[i,j] = A[i,j]\n",
    "        \n",
    "U = A - L\n",
    "for i in range(n):\n",
    "    L[i,i] = 1\n",
    "print('U=\\n', U)\n",
    "print('L=\\n', L)"
   ]
  },
  {
   "cell_type": "code",
   "execution_count": 143,
   "metadata": {},
   "outputs": [
    {
     "name": "stdout",
     "output_type": "stream",
     "text": [
      "[[ True  True  True  True]\n",
      " [ True False False False]\n",
      " [ True False False False]\n",
      " [ True False False False]]\n"
     ]
    }
   ],
   "source": [
    "print(np.dot(L,U) == A1)"
   ]
  },
  {
   "cell_type": "code",
   "execution_count": null,
   "metadata": {},
   "outputs": [],
   "source": []
  }
 ],
 "metadata": {
  "kernelspec": {
   "display_name": "Python 3 (ipykernel)",
   "language": "python",
   "name": "python3"
  },
  "language_info": {
   "codemirror_mode": {
    "name": "ipython",
    "version": 3
   },
   "file_extension": ".py",
   "mimetype": "text/x-python",
   "name": "python",
   "nbconvert_exporter": "python",
   "pygments_lexer": "ipython3",
   "version": "3.9.7"
  }
 },
 "nbformat": 4,
 "nbformat_minor": 4
}
