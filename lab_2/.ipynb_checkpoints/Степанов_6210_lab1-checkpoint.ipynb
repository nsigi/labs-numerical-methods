{
 "cells": [
  {
   "cell_type": "markdown",
   "id": "648e8b53",
   "metadata": {},
   "source": [
    "# Степанов Никита 6210, лабораторная 1, 16 вариант"
   ]
  },
  {
   "cell_type": "code",
   "execution_count": 39,
   "id": "0b1d02a2",
   "metadata": {},
   "outputs": [],
   "source": [
    "import math\n",
    "import numpy as np\n",
    "import matplotlib.pyplot as plt\n",
    "import scipy as sp\n",
    "from scipy import integrate"
   ]
  },
  {
   "cell_type": "markdown",
   "id": "93fcb455",
   "metadata": {},
   "source": [
    "1. Создать матрицу 5x5 из единиц. Создать единичную матрицу 50х50."
   ]
  },
  {
   "cell_type": "code",
   "execution_count": 40,
   "id": "9604691a",
   "metadata": {},
   "outputs": [
    {
     "data": {
      "text/plain": [
       "array([[1, 1, 1, 1, 1],\n",
       "       [1, 1, 1, 1, 1],\n",
       "       [1, 1, 1, 1, 1],\n",
       "       [1, 1, 1, 1, 1],\n",
       "       [1, 1, 1, 1, 1]])"
      ]
     },
     "execution_count": 40,
     "metadata": {},
     "output_type": "execute_result"
    }
   ],
   "source": [
    "np.ones((5, 5), dtype=int)"
   ]
  },
  {
   "cell_type": "code",
   "execution_count": 41,
   "id": "012dc821",
   "metadata": {},
   "outputs": [
    {
     "data": {
      "text/plain": [
       "array([[1., 0., 0., ..., 0., 0., 0.],\n",
       "       [0., 1., 0., ..., 0., 0., 0.],\n",
       "       [0., 0., 1., ..., 0., 0., 0.],\n",
       "       ...,\n",
       "       [0., 0., 0., ..., 1., 0., 0.],\n",
       "       [0., 0., 0., ..., 0., 1., 0.],\n",
       "       [0., 0., 0., ..., 0., 0., 1.]])"
      ]
     },
     "execution_count": 41,
     "metadata": {},
     "output_type": "execute_result"
    }
   ],
   "source": [
    "np.eye(50)"
   ]
  },
  {
   "attachments": {
    "image.png": {
     "image/png": "[encoded data removed]"
    }
   },
   "cell_type": "markdown",
   "id": "c0b86d82",
   "metadata": {},
   "source": [
    "2. Вычислить определитель: ![image.png](attachment:image.png)"
   ]
  },
  {
   "cell_type": "code",
   "execution_count": 42,
   "id": "0f1116a6",
   "metadata": {},
   "outputs": [
    {
     "name": "stdout",
     "output_type": "stream",
     "text": [
      "[[ 3 -1  2  3  2]\n",
      " [ 1  2 -3  3  4]\n",
      " [ 2 -3  4  2  1]\n",
      " [ 3  0  0  5  0]\n",
      " [ 2  0  0  4  0]]\n"
     ]
    },
    {
     "data": {
      "text/plain": [
       "-22"
      ]
     },
     "execution_count": 42,
     "metadata": {},
     "output_type": "execute_result"
    }
   ],
   "source": [
    "# задем матрицу\n",
    "A = np.array([[3, -1, 2, 3, 2], [1, 2, -3, 3, 4],\n",
    "              [2, -3, 4, 2, 1], [3, 0, 0, 5, 0],\n",
    "              [2, 0, 0, 4, 0]])\n",
    "print(A)\n",
    "# вычисляем определитель\n",
    "math.trunc(np.linalg.det(A))"
   ]
  },
  {
   "cell_type": "markdown",
   "id": "38bed398",
   "metadata": {},
   "source": [
    "3. Создать случайную матрицу A из целых чисел из отрезка [0,5] размера\n",
    "4x4. Создать вектор-столбец B подходящего размера. Решить систему\n",
    "AX = B."
   ]
  },
  {
   "cell_type": "code",
   "execution_count": 43,
   "id": "5e651426",
   "metadata": {},
   "outputs": [
    {
     "name": "stdout",
     "output_type": "stream",
     "text": [
      "[[1 4 5 3]\n",
      " [3 2 0 4]\n",
      " [0 5 3 5]\n",
      " [2 3 0 0]]\n",
      "[[-6]\n",
      " [ 2]\n",
      " [10]\n",
      " [ 6]]\n",
      "[[ 0.16363636  0.21818182 -0.27272727  0.09090909]\n",
      " [-0.10909091 -0.14545455  0.18181818  0.27272727]\n",
      " [ 0.29545455 -0.02272727 -0.15909091 -0.11363636]\n",
      " [-0.06818182  0.15909091  0.11363636 -0.20454545]]\n",
      "Ответ:\n",
      "[[-2.72727273]\n",
      " [ 3.81818182]\n",
      " [-4.09090909]\n",
      " [ 0.63636364]]\n"
     ]
    }
   ],
   "source": [
    "# генерируем матрицу и вектор-столбец\n",
    "A = np.random.randint(0, 6, (4, 4))\n",
    "B = np.random.randint(-10, 11, (4, 1))\n",
    "print(A)\n",
    "print(B)\n",
    "# находим обратную матрицу к А\n",
    "C = np.linalg.inv(A)\n",
    "print(C)\n",
    "print('Ответ:')\n",
    "# перемножаем обратную матрицу и вектор-столбец для нахождения Х\n",
    "print(np.dot(C, B))"
   ]
  },
  {
   "cell_type": "markdown",
   "id": "b581e1a5",
   "metadata": {},
   "source": [
    "4. Вычислить интеграл: $$\\int _0^{1/3} ch^2(3x) dx$$"
   ]
  },
  {
   "cell_type": "code",
   "execution_count": 44,
   "id": "d99b5d11",
   "metadata": {},
   "outputs": [
    {
     "data": {
      "text/plain": [
       "0.46890503398725164"
      ]
     },
     "execution_count": 44,
     "metadata": {},
     "output_type": "execute_result"
    }
   ],
   "source": [
    "res, err = integrate.quad(lambda x: (math.cosh(3*x))**2, 0, 1/3)\n",
    "res"
   ]
  },
  {
   "cell_type": "markdown",
   "id": "63f0e2ea",
   "metadata": {},
   "source": [
    "5. Вычислить интеграл: $$\\int _0^1 dx \\int _0^{1 - x} dy \\int _0^{1 - x - y}(x + y + z) dz $$"
   ]
  },
  {
   "cell_type": "code",
   "execution_count": 45,
   "id": "b10e7850",
   "metadata": {},
   "outputs": [
    {
     "name": "stdout",
     "output_type": "stream",
     "text": [
      "0.125\n"
     ]
    }
   ],
   "source": [
    "# задаем функцию x+y+z\n",
    "def f(x, y, z): return x+y+z\n",
    "# задаем верхний предел для второго интеграла по dy\n",
    "def h(x): return 1 - x\n",
    "# аналогично для верхнего предела интеграла по dz\n",
    "def r(x, y): return 1 - x - y\n",
    "\n",
    "\n",
    "res, err = integrate.tplquad(f, 0, 1, 0, h, 0, r)\n",
    "print(res)"
   ]
  },
  {
   "cell_type": "markdown",
   "id": "b14130e1",
   "metadata": {},
   "source": [
    "6. Построить в одной системе координат графики функций: y = 2cos(x - $\\pi/4$), y = x + 3.\n",
    "Оси координат должны быть подписаны, графики должны быть\n",
    "разного цвета, должна быть выведена легенда."
   ]
  },
  {
   "cell_type": "code",
   "execution_count": 46,
   "id": "15bf55da",
   "metadata": {},
   "outputs": [
    {
     "data": {
      "image/png": "[encoded data removed]",
      "text/plain": [
       "<Figure size 720x504 with 1 Axes>"
      ]
     },
     "metadata": {
      "needs_background": "light"
     },
     "output_type": "display_data"
    }
   ],
   "source": [
    "# создание холст и артборда\n",
    "fig = plt.figure(figsize=(10, 7))\n",
    "ax = plt.subplot(111)\n",
    "\n",
    "# удаление правой и верхней границ\n",
    "ax.spines['right'].set_color('none')\n",
    "ax.spines['top'].set_color('none')\n",
    "\n",
    "# задаем направление осям\n",
    "ax.xaxis.set_ticks_position('bottom')\n",
    "ax.yaxis.set_ticks_position('left')\n",
    "\n",
    "# позиционирование оносительно 0\n",
    "ax.spines['bottom'].set_position(('data', 0))\n",
    "ax.spines['left'].set_position(('data', 0))\n",
    "\n",
    "X = np.linspace(-2*np.pi, 2*np.pi, 256)\n",
    "y1 = 2 * np.cos(X - np.pi/4)\n",
    "y2 = X + 3\n",
    "\n",
    "plt.plot(X, y1, color=\"red\", linewidth=2.5,\n",
    "         linestyle=\"-\", label=\"y = 2cos(x - $\\pi/4$)\")\n",
    "plt.plot(X, y2, color=\"blue\", linewidth=2.5,\n",
    "         linestyle=\"-\", label=\"y = x + 3\")\n",
    "\n",
    "# устанавливаем диапазоны осей\n",
    "plt.xlim(X.min() * 1.1, X.max() * 1.1)\n",
    "plt.ylim(y1.min() * 1.1, y1.max() * 1.1)\n",
    "\n",
    "# изменяем метки на осях координат\n",
    "plt.xticks([-2*np.pi, -3*np.pi / 2, -np.pi, -np.pi / 2, 0, np.pi / 2, np.pi, 3*np.pi / 2, 2*np.pi],\n",
    "           [r'$-2\\pi$', r'$-3\\pi/2$', r'$-\\pi$', r'$-\\pi/2$', r'$0$', r'$\\pi/2$', r'$\\pi$', r'$3 \\pi/2$', r'$2\\pi$'])\n",
    "plt.yticks([-3, -2, -1, 1, 2, 3],\n",
    "           [r'$-3$', r'$-2$', r'$-1$', r'$1$', r'$2$', r'$3$'])\n",
    "\n",
    "# задаем легенду\n",
    "plt.legend(loc='upper right', frameon=False)\n",
    "fig.text(0.9, 0.51, 'X')\n",
    "fig.text(0.52, 0.85, 'Y')\n",
    "plt.grid()\n",
    "plt.show()"
   ]
  }
 ],
 "metadata": {
  "kernelspec": {
   "display_name": "Python 3",
   "language": "python",
   "name": "python3"
  },
  "language_info": {
   "codemirror_mode": {
    "name": "ipython",
    "version": 3
   },
   "file_extension": ".py",
   "mimetype": "text/x-python",
   "name": "python",
   "nbconvert_exporter": "python",
   "pygments_lexer": "ipython3",
   "version": "3.8.8"
  }
 },
 "nbformat": 4,
 "nbformat_minor": 5
}
